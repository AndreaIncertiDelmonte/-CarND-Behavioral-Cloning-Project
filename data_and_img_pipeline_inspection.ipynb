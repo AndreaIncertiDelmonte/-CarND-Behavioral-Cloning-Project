{
 "cells": [
  {
   "cell_type": "markdown",
   "metadata": {},
   "source": [
    "# Data & image transformations pipeline inspection\n",
    "\n",
    "This notebook is ment to explore data set and to check image transformation pipeline"
   ]
  },
  {
   "cell_type": "code",
   "execution_count": null,
   "metadata": {},
   "outputs": [],
   "source": [
    "%load_ext autoreload\n",
    "%autoreload 2"
   ]
  },
  {
   "cell_type": "code",
   "execution_count": null,
   "metadata": {},
   "outputs": [],
   "source": [
    "import matplotlib.pyplot as plt\n",
    "import matplotlib.image as mpimg\n",
    "import cv2\n",
    "from keras.preprocessing.image import img_to_array, load_img\n",
    "\n",
    "%matplotlib inline\n",
    "\n",
    "import train_model_lib as tm_lib"
   ]
  },
  {
   "cell_type": "markdown",
   "metadata": {},
   "source": [
    "## Data set confs\n",
    "Data from Udacity"
   ]
  },
  {
   "cell_type": "code",
   "execution_count": null,
   "metadata": {},
   "outputs": [],
   "source": [
    "UDACITY_TRAINING_DATA_DIR = \"./udacity_data/\"\n",
    "UDACITY_TRAINING_DATA_CSV = \"driving_log.csv\""
   ]
  },
  {
   "cell_type": "markdown",
   "metadata": {},
   "source": [
    "## Load training data"
   ]
  },
  {
   "cell_type": "code",
   "execution_count": null,
   "metadata": {},
   "outputs": [],
   "source": [
    "recorded_data_df = tm_lib.load_data_from_file(UDACITY_TRAINING_DATA_DIR, UDACITY_TRAINING_DATA_CSV)"
   ]
  },
  {
   "cell_type": "markdown",
   "metadata": {},
   "source": [
    "## Explore data from CSV file"
   ]
  },
  {
   "cell_type": "code",
   "execution_count": null,
   "metadata": {},
   "outputs": [],
   "source": [
    "recorded_data_df.describe(include='all')"
   ]
  },
  {
   "cell_type": "markdown",
   "metadata": {},
   "source": [
    "## Data histogram\n",
    "Data are heavily unbalanced! Most data refers to straight driving and there are more left turns in train track than right turns. We need to tackle that. "
   ]
  },
  {
   "cell_type": "code",
   "execution_count": null,
   "metadata": {},
   "outputs": [],
   "source": [
    "plt.figure()\n",
    "recorded_data_df.hist(column='steering')"
   ]
  },
  {
   "cell_type": "markdown",
   "metadata": {},
   "source": [
    "## Explore images\n",
    "Extract 3 random rows from data and print images"
   ]
  },
  {
   "cell_type": "code",
   "execution_count": null,
   "metadata": {
    "scrolled": true
   },
   "outputs": [],
   "source": [
    "plt.rcParams['figure.figsize'] = (12, 6)\n",
    "\n",
    "samples = recorded_data_df.sample(3)\n",
    "\n",
    "k = 0\n",
    "for row in samples.iterrows():\n",
    "    index, data = row\n",
    "    \n",
    "    print(\"Sample image number {} angle: {}\".format(index,data[\"steering\"]))  \n",
    "    \n",
    "    # Left\n",
    "    plt.subplot(3, 3, k+1)\n",
    "    img_l = mpimg.imread(data['left'])\n",
    "    plt.imshow(img_l, aspect=\"auto\")\n",
    "    plt.axis('off')\n",
    "    \n",
    "    # Center\n",
    "    plt.subplot(3, 3, k+2)\n",
    "    img_c = mpimg.imread(data['center'])\n",
    "    plt.imshow(img_c, aspect=\"auto\")\n",
    "    plt.axis('off')\n",
    "\n",
    "    # Right\n",
    "    plt.subplot(3, 3, k+3)\n",
    "    img_r = mpimg.imread(data['right'])\n",
    "    plt.imshow(img_r, aspect=\"auto\")\n",
    "    plt.axis('off')\n",
    "    \n",
    "    plt.show()\n",
    "    \n",
    "    k = k+3"
   ]
  },
  {
   "cell_type": "markdown",
   "metadata": {},
   "source": [
    "# Test data augmentation function"
   ]
  },
  {
   "cell_type": "markdown",
   "metadata": {},
   "source": [
    "## Data augmentation - Choose Random Camera"
   ]
  },
  {
   "cell_type": "code",
   "execution_count": null,
   "metadata": {},
   "outputs": [],
   "source": [
    "s_rows = recorded_data_df.sample(2)\n",
    "for index, sr in s_rows.iterrows():    \n",
    "    s_img, s_steering = tm_lib.camera_chooser(sr, True)"
   ]
  },
  {
   "cell_type": "markdown",
   "metadata": {},
   "source": [
    "## Data augmentation - Flip Images"
   ]
  },
  {
   "cell_type": "code",
   "execution_count": null,
   "metadata": {},
   "outputs": [],
   "source": [
    "s_rows = recorded_data_df.sample(5)\n",
    "for index, sr in s_rows.iterrows():    \n",
    "    s_img = load_img(sr[\"left\"].strip())\n",
    "    s_img = img_to_array(s_img)\n",
    "    s_img, s_steering = tm_lib.horizontal_flip(s_img, sr[\"steering\"], True)"
   ]
  },
  {
   "cell_type": "markdown",
   "metadata": {},
   "source": [
    "## Data augmentation - Change Brightness "
   ]
  },
  {
   "cell_type": "code",
   "execution_count": null,
   "metadata": {},
   "outputs": [],
   "source": [
    "plt.rcParams['figure.figsize'] = (12, 6)\n",
    "s_rows = recorded_data_df.sample(3)\n",
    "j = 0\n",
    "for index, sr in s_rows.iterrows():    \n",
    "    print(\"Change brightness of image number {} angle: {}\".format(index,data[\"steering\"]))  \n",
    "    \n",
    "    # Left\n",
    "    plt.subplot(3, 2, j+1)\n",
    "    img_l = mpimg.imread(data['left'])\n",
    "    plt.imshow(img_l, aspect=\"auto\")\n",
    "    plt.axis('off')\n",
    "    \n",
    "    plt.subplot(3, 2, j+2)\n",
    "    img_l_brightness = tm_lib.change_image_brightness(img_l,True)\n",
    "    plt.imshow(img_l_brightness, aspect=\"auto\")\n",
    "    plt.axis('off')\n",
    "    \n",
    "    plt.show()\n",
    "    \n",
    "    j = j + 2"
   ]
  },
  {
   "cell_type": "markdown",
   "metadata": {},
   "source": [
    "# Test image pipeline functions"
   ]
  },
  {
   "cell_type": "markdown",
   "metadata": {},
   "source": [
    "## Cropped images\n",
    "Removed first 50 rows for the orizon and last 30 rows for the car bonnet"
   ]
  },
  {
   "cell_type": "code",
   "execution_count": null,
   "metadata": {},
   "outputs": [],
   "source": [
    "k = 0\n",
    "for row in samples.iterrows():\n",
    "    index, data = row\n",
    "    \n",
    "    print(\"Cropped sample image number {} angle: {}\".format(index,data[\"steering\"]))  \n",
    "    \n",
    "    # Left\n",
    "    plt.subplot(3, 2, k+1)\n",
    "    #img_l_cropped = vertical_crop(mpimg.imread(data['left'].replace(\" \",\"\")))\n",
    "    img_l = mpimg.imread(data['left'])\n",
    "    plt.imshow(img_l, aspect=\"auto\")\n",
    "    plt.axis('off')\n",
    "    \n",
    "    plt.subplot(3, 2, k+2)\n",
    "    img_l_cropped = tm_lib.vertical_crop_sim(img_l)\n",
    "    plt.imshow(img_l_cropped, aspect=\"auto\")\n",
    "    plt.axis('off')\n",
    "    \n",
    "    plt.show()\n",
    "    \n",
    "    k = k+2"
   ]
  },
  {
   "cell_type": "markdown",
   "metadata": {},
   "source": [
    "## Cropped and resized image\n",
    "Removed first 50 rows for the orizon and last 30 rows for the car bonnet.<br>\n",
    "Reshape images to 96x96"
   ]
  },
  {
   "cell_type": "code",
   "execution_count": null,
   "metadata": {},
   "outputs": [],
   "source": [
    "k = 0\n",
    "for row in samples.iterrows():\n",
    "    index, data = row\n",
    "    \n",
    "    print(\"Cropped and resized 96x96 sample image number {} angle: {}\".format(index,data[\"steering\"]))  \n",
    "    \n",
    "    # Left\n",
    "    plt.subplot(3, 2, k+1)\n",
    "    img_l = mpimg.imread(data['left'])\n",
    "    plt.imshow(img_l, aspect=\"auto\")\n",
    "    plt.axis('off')\n",
    "    \n",
    "    plt.subplot(3, 2, k+2)\n",
    "    img_l_cropped = tm_lib.vertical_crop(img_l)\n",
    "    img_l_resized = tm_lib.resize_to_target_size(img_l_cropped)\n",
    "    plt.imshow(img_l_resized, aspect=\"auto\")\n",
    "    plt.axis('off')\n",
    "    \n",
    "    plt.show()\n",
    "    \n",
    "    k = k+2"
   ]
  }
 ],
 "metadata": {
  "anaconda-cloud": {},
  "kernelspec": {
   "display_name": "Python 3",
   "language": "python",
   "name": "python3"
  },
  "language_info": {
   "codemirror_mode": {
    "name": "ipython",
    "version": 3
   },
   "file_extension": ".py",
   "mimetype": "text/x-python",
   "name": "python",
   "nbconvert_exporter": "python",
   "pygments_lexer": "ipython3",
   "version": "3.5.4"
  },
  "widgets": {
   "state": {},
   "version": "1.1.2"
  }
 },
 "nbformat": 4,
 "nbformat_minor": 2
}
